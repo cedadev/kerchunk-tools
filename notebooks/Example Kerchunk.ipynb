{
 "cells": [
  {
   "cell_type": "markdown",
   "metadata": {},
   "source": [
    "# Example Reading Kerchunk: \n",
    "Use the below cells to read an example kerchunk file from the CEDA Archive. This notebook requires some specific python libraries to function, but these can be installed into a conda/virtual environment."
   ]
  },
  {
   "cell_type": "code",
   "execution_count": null,
   "metadata": {},
   "outputs": [],
   "source": [
    "import fsspec\n",
    "import xarray as xr\n",
    "import matplotlib.pyplot as plt\n",
    "\n",
    "kfile  = 'https://dap.ceda.ac.uk/neodc/esacci/snow/docs/esacci4.json'\n",
    "mapper = fsspec.get_mapper('reference://', fo=kfile)\n",
    "ds     = xr.open_zarr(mapper, consolidated=False)\n",
    "\n",
    "ds.boa_lwdn.isel(time=100).sel(lat=slice(30, 70), lon=slice(-20, 30)).plot()"
   ]
  }
 ],
 "metadata": {
  "language_info": {
   "name": "python"
  },
  "orig_nbformat": 4
 },
 "nbformat": 4,
 "nbformat_minor": 2
}
